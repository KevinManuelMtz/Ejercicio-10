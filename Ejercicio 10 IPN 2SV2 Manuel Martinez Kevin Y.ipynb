{
  "nbformat": 4,
  "nbformat_minor": 0,
  "metadata": {
    "colab": {
      "name": "Ejercicio 6.ipynb",
      "provenance": []
    },
    "kernelspec": {
      "name": "python3",
      "display_name": "Python 3"
    }
  },
  "cells": [
    {
      "cell_type": "code",
      "metadata": {
        "id": "YEqC_itk5xgy",
        "outputId": "69950f08-7c30-448a-bfff-12b24549a061",
        "colab": {
          "base_uri": "https://localhost:8080/"
        }
      },
      "source": [
        "def area(r):\n",
        "\treturn 3.1416 * (r*r)\n",
        "\n",
        "def volumen(r, a):\n",
        "\tA = area(r)\n",
        "\treturn A * a\n",
        "\n",
        "\n",
        "r = int(input(\"Introduce el radio: \"))\n",
        "a = int(input(\"Introduce la altura: \"))\n",
        "\n",
        "ar = area(r)\n",
        "vol = volumen(r,a)\n",
        "\n",
        "print(\"El Area del circulo es: \",ar,\"unidades cuadradas\")\n",
        "print(\"El volumen del cilindro es: \",vol,\" unidades cubicas\")"
      ],
      "execution_count": 41,
      "outputs": [
        {
          "output_type": "stream",
          "text": [
            "Introduce el radio: 5\n",
            "Introduce la altura: 10\n",
            "El Area del circulo es:  78.53999999999999 unidades cuadradas\n",
            "El volumen del cilindro es:  785.3999999999999  unidades cubicas\n"
          ],
          "name": "stdout"
        }
      ]
    }
  ]
}